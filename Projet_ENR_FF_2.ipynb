{
 "cells": [
  {
   "cell_type": "markdown",
   "metadata": {
    "id": "-6N85Q6oviCV"
   },
   "source": [
    "# Projet 5A ENR\n",
    "\n",
    "## F&F\n",
    "\n",
    "## Apprendre la stratégie journalière de stockage\n",
    "### Mise en place d'un réseau de neurone"
   ]
  },
  {
   "cell_type": "markdown",
   "metadata": {
    "id": "VB23RE10sOIz"
   },
   "source": [
    "### Objectifs : \n",
    "- Estimer le coût d’un mix énergétique de manière rapide en limitant le temps de calcul de l'optimisation du stockage qui se fait aujourd’hui heure par heure. "
   ]
  },
  {
   "cell_type": "markdown",
   "metadata": {
    "id": "zCXPHlmytGVH"
   },
   "source": [
    "L’entrée du réseau peut être par exemple :\n",
    "\n",
    "1) L’état des stocks des différents moyens de stockage (en valeur absolue ou en pourcentage) à 0h\n",
    "\n",
    "2) La production nette de la journée (production totale de la journée - consommation totale)\n",
    "\n",
    "3) le jour de l’année (entre 1 et 365)\n",
    "\n",
    "Et les sorties seraient : l’état des stocks en fin journée des différents moyens de stockages et le cout de stockage de la journée.\n",
    "Ceci n’st qu’une proposition. On peut aussi mettre en entrée, la variance de la production journalière qui peut avoir un rôle."
   ]
  },
  {
   "cell_type": "code",
   "execution_count": 1,
   "metadata": {
    "id": "RBQ4OGW1spZS"
   },
   "outputs": [],
   "source": [
    "import matplotlib.pyplot as plt\n",
    "from matplotlib import ticker\n",
    "import numpy as np\n",
    "import pandas as pd\n",
    "import seaborn as sns\n",
    "import tensorflow as tf\n",
    "from tensorflow import keras\n",
    "from tensorflow.keras import layers"
   ]
  },
  {
   "cell_type": "markdown",
   "metadata": {
    "id": "Xx_GNyULvaxz"
   },
   "source": [
    "## Prétraitement des données\n",
    "\n",
    "- il faut genérer les données avec les modèles \n",
    "\n",
    "- Quel mix choisir ? Le choisir et l'importer ici =) \n",
    "\n",
    "- Le cout de stockage n'est t'il pas aussi dépendant du profil de consommation ? (estimation ADEME, Negawhatt, RTE ?) réponse : le profil de consommation intervient dans la production de la journée nette (qui n'est pas un partie logique)\n",
    "\n",
    "- Comment on fait pour connaître la production de la journée idem pour la consommation ? Ducoup c'est online ? Quelle idée derrière la variance de la production journalière (+ de variance plus de stockage ?) ? \n",
    "- C'est pas un peu con de connaître exactement la production de la journée ? parceque ducoup le stock prédis ca va être sensiblement stock d'entree + prod de la journée : un peu étrange selon Flavie\n",
    "\n",
    "\n",
    "- produire les données d'apprentissage contenant\n",
    "\n",
    "    - 1 jour de l'année entre 1 et 365\n",
    "    - état des stocks à h0\n",
    "    - production de la journée\n",
    "    - variance production journalière.\n",
    "    - variance consomation journalière utile ? (peut être bien que oui aussi)\n",
    "\n",
    "\n",
    "\n"
   ]
  },
  {
   "cell_type": "code",
   "execution_count": 3,
   "metadata": {
    "colab": {
     "base_uri": "https://localhost:8080/",
     "height": 314
    },
    "id": "IcT26aKPsgpz",
    "outputId": "9c659a07-daec-4463-8e6b-140f7501018d"
   },
   "outputs": [],
   "source": [
    "simu_opti_ademe = pd.read_csv(\"Project_Renewables_2050_Stage_Amandine/simulations/optimal_simulations/simu_opti_ademe/simu_opti_ademe_hourly_generation.csv\")\n",
    "simu_opti_rte = pd.read_csv(\"Project_Renewables_2050_Stage_Amandine/simulations/optimal_simulations/simu_opti_rte/simu_opti_rte_hourly_generation.csv\")\n",
    "simu_opti_negawatt = pd.read_csv(\"Project_Renewables_2050_Stage_Amandine/simulations/optimal_simulations/simu_opti_negawatt/simu_opti_negawatt_hourly_generation.csv\")"
   ]
  },
  {
   "cell_type": "code",
   "execution_count": 4,
   "metadata": {},
   "outputs": [
    {
     "ename": "NameError",
     "evalue": "name 'simu_opti_ademe' is not defined",
     "output_type": "error",
     "traceback": [
      "\u001b[1;31m---------------------------------------------------------------------------\u001b[0m",
      "\u001b[1;31mNameError\u001b[0m                                 Traceback (most recent call last)",
      "\u001b[1;32m~\\AppData\\Local\\Temp/ipykernel_3632/2997994416.py\u001b[0m in \u001b[0;36m<module>\u001b[1;34m\u001b[0m\n\u001b[1;32m----> 1\u001b[1;33m \u001b[0msimu_opti_ademe\u001b[0m\u001b[1;33m.\u001b[0m\u001b[0mdrop\u001b[0m\u001b[1;33m(\u001b[0m\u001b[1;33m[\u001b[0m\u001b[1;34m\"Electricity demand\"\u001b[0m\u001b[1;33m,\u001b[0m\u001b[1;34m\"hour\"\u001b[0m\u001b[1;33m,\u001b[0m\u001b[1;34m\"reserve phs\"\u001b[0m\u001b[1;33m,\u001b[0m\u001b[1;34m\"reserve phs\"\u001b[0m\u001b[1;33m,\u001b[0m\u001b[1;34m\"reserve battery\"\u001b[0m\u001b[1;33m,\u001b[0m\u001b[1;34m\"reserve lake\"\u001b[0m\u001b[1;33m,\u001b[0m\u001b[1;34m\"Storage phs\"\u001b[0m\u001b[1;33m,\u001b[0m\u001b[1;34m\"Storage battery\"\u001b[0m\u001b[1;33m,\u001b[0m\u001b[1;34m\"Storage methanation\"\u001b[0m\u001b[1;33m]\u001b[0m\u001b[1;33m,\u001b[0m\u001b[0minplace\u001b[0m \u001b[1;33m=\u001b[0m \u001b[1;32mTrue\u001b[0m\u001b[1;33m,\u001b[0m \u001b[0maxis\u001b[0m \u001b[1;33m=\u001b[0m\u001b[1;36m1\u001b[0m\u001b[1;33m)\u001b[0m\u001b[1;33m\u001b[0m\u001b[1;33m\u001b[0m\u001b[0m\n\u001b[0m\u001b[0;32m      2\u001b[0m \u001b[1;31m#simu_opti_ademe.drop(\"hour\",inplace = True, axis =1)\u001b[0m\u001b[1;33m\u001b[0m\u001b[1;33m\u001b[0m\u001b[0m\n",
      "\u001b[1;31mNameError\u001b[0m: name 'simu_opti_ademe' is not defined"
     ]
    }
   ],
   "source": [
    "simu_opti_ademe.drop([\"Electricity demand\",\"hour\",\"reserve phs\",\"reserve phs\",\"reserve battery\",\"reserve lake\",\"Storage phs\",\"Storage battery\",\"Storage methanation\"],inplace = True, axis =1)\n",
    "#simu_opti_ademe.drop(\"hour\",inplace = True, axis =1)"
   ]
  },
  {
   "cell_type": "code",
   "execution_count": 5,
   "metadata": {},
   "outputs": [
    {
     "ename": "NameError",
     "evalue": "name 'simu_opti_ademe' is not defined",
     "output_type": "error",
     "traceback": [
      "\u001b[1;31m---------------------------------------------------------------------------\u001b[0m",
      "\u001b[1;31mNameError\u001b[0m                                 Traceback (most recent call last)",
      "\u001b[1;32m~\\AppData\\Local\\Temp/ipykernel_3632/967253105.py\u001b[0m in \u001b[0;36m<module>\u001b[1;34m\u001b[0m\n\u001b[1;32m----> 1\u001b[1;33m \u001b[0msimu_opti_ademe\u001b[0m\u001b[1;33m\u001b[0m\u001b[1;33m\u001b[0m\u001b[0m\n\u001b[0m",
      "\u001b[1;31mNameError\u001b[0m: name 'simu_opti_ademe' is not defined"
     ]
    }
   ],
   "source": [
    "simu_opti_ademe"
   ]
  },
  {
   "cell_type": "code",
   "execution_count": null,
   "metadata": {},
   "outputs": [],
   "source": [
    "#transforming Data from hour to day\n",
    "#sum over generation\n",
    "#hour 24 for stored"
   ]
  },
  {
   "cell_type": "code",
   "execution_count": null,
   "metadata": {},
   "outputs": [],
   "source": [
    "A =simu_opti_ademe[[\"offshore\",\"onshore\",\"pv\",\"river\",\"lake\",\"biogas\",\"phs\",\"battery\",\"methanation\"]].groupby(np.arange(len(simu_opti_ademe))//24).sum()\n",
    "A"
   ]
  },
  {
   "cell_type": "code",
   "execution_count": null,
   "metadata": {},
   "outputs": [],
   "source": [
    "B = simu_opti_ademe[[\"Stored phs\",\"Stored battery\",\"Stored methanation\"]][::24]\n",
    "B.reset_index(inplace = True)"
   ]
  },
  {
   "cell_type": "code",
   "execution_count": null,
   "metadata": {},
   "outputs": [],
   "source": [
    "B"
   ]
  },
  {
   "cell_type": "code",
   "execution_count": null,
   "metadata": {},
   "outputs": [],
   "source": [
    "Inputs =[A,B]\n",
    "Inputs =pd.concat(Inputs,axis =1)"
   ]
  },
  {
   "cell_type": "code",
   "execution_count": null,
   "metadata": {},
   "outputs": [],
   "source": [
    "Inputs"
   ]
  },
  {
   "cell_type": "code",
   "execution_count": null,
   "metadata": {},
   "outputs": [],
   "source": [
    "Inputs[\"days\"]= Inputs.index.values +1\n",
    "Inputs"
   ]
  },
  {
   "cell_type": "code",
   "execution_count": null,
   "metadata": {},
   "outputs": [],
   "source": [
    "# ajouter le coût du storage\n",
    "# overnight cost $/kW\n",
    "# CAPEX $/kWh\n",
    "# Annuity $/kW/year > pas lié au stockage\n",
    "# Fixed O&M $/MWh\n",
    "# Storage annuity $/kWh/year"
   ]
  },
  {
   "cell_type": "code",
   "execution_count": null,
   "metadata": {},
   "outputs": [],
   "source": [
    "stor = [\"phs\",\"battery\",\"methanation\"]\n",
    "tec = [\"offshore\",\"onshore\",\"pv\",\"river\",\"lake\",\"biogas\",\"phs\",\"battery\",\"methanation\"]\n",
    "\n",
    "# Annualized power capex cost in M€/GW/year\n",
    "capex = pd.read_csv(\"inputs/annuities.csv\", index_col=0, squeeze=True, header=None)\n",
    "# Existing capacities of the technologies by December 2017 in GW\n",
    "capa_ex = pd.read_csv(\"inputs/existing_capas.csv\", index_col=0, squeeze=True, header=None)\n",
    "# Annualized energy capex cost of storage technologies in M€/GWh/year\n",
    "capex_en = pd.read_csv(\"inputs/str_annuities.csv\", index_col=0, squeeze=True, header=None)\n",
    "# Annualized fixed operation and maintenance costs M€/GW/year\n",
    "fOM = pd.read_csv(\"inputs/fO&M.csv\", index_col=0, squeeze=True, header=None)\n",
    "# Variable operation and maintenance costs in M€/GWh\n",
    "vOM = pd.read_csv(\"inputs/vO&M.csv\", index_col=0, squeeze=True, header=None)\n",
    "\n",
    "\n",
    "\n",
    "# variables optimisés par les 5A 2021\n",
    "s_capex = [0,0,84.16086]\n",
    "s_capex = pd.Series(s_capex, index = stor)\n",
    "# charging related fOM of storage in M€/GW/year\n",
    "s_opex = [0,0,59.25]\n",
    "s_opex = pd.Series(s_opex, index = stor)\n",
    "\n"
   ]
  },
  {
   "cell_type": "code",
   "execution_count": null,
   "metadata": {},
   "outputs": [],
   "source": [
    "vOM = vOM.rename(index={\"Onshore\": \"onshore\", \"PV\":\"pv\", \"PHS\":\"phs\", \"Battery\":\"battery\"})\n",
    "fOM = fOM.rename(index={\"Offshore\": \"offshore\", \"Onshore\": \"onshore\", \"PV\":\"pv\", \"PHS\":\"phs\", \"Battery\":\"battery\"})\n",
    "capex = capex.rename(index={\"Offshore\": \"offshore\", \"Onshore\": \"onshore\", \"PV\":\"pv\", \"PHS\":\"phs\", \"Battery\":\"battery\"})"
   ]
  },
  {
   "cell_type": "code",
   "execution_count": null,
   "metadata": {},
   "outputs": [],
   "source": [
    "tec = [\"offshore\",\"onshore\",\"pv\",\"river\",\"lake\",\"biogas\",\"phs\",\"battery\",\"methanation\"]\n",
    "Q = pd.Series([12.64, 79.73, 121.98, 7.5, 13 ,32.93, 9.3, 20.08, 32.93], index = tec)\n",
    "volume= pd.Series([180 ,74.14, 12499.09], index = stor) #volume du mix optimal \n",
    "S = pd.Series([9.3,20.08, 7.66], index = stor)\n",
    "gene = Inputs[[\"phs\",\"battery\",\"methanation\"]]"
   ]
  },
  {
   "cell_type": "code",
   "execution_count": null,
   "metadata": {},
   "outputs": [],
   "source": [
    "gene"
   ]
  },
  {
   "cell_type": "code",
   "execution_count": null,
   "metadata": {},
   "outputs": [],
   "source": [
    "DAY_FIXED_COST = (sum((Q[tec] - capa_ex[tec]) * capex[tec] for tec in stor) \\\n",
    "+ sum(volume[storage_tecs] * capex_en[storage_tecs] for storage_tecs in stor)\\\n",
    "+ sum(Q[tec] * fOM[tec] for tec in stor)\\\n",
    "+ sum(S[storage_tecs] * (s_opex[storage_tecs] + s_capex[storage_tecs]) for storage_tecs in stor)\\\n",
    ")/(365*1000)"
   ]
  },
  {
   "cell_type": "code",
   "execution_count": null,
   "metadata": {},
   "outputs": [],
   "source": [
    "DAY_VAR_COST = sum((gene[tec] * vOM[tec]) for tec in stor)/1000"
   ]
  },
  {
   "cell_type": "code",
   "execution_count": null,
   "metadata": {},
   "outputs": [],
   "source": [
    "COST = DAY_VAR_COST +DAY_FIXED_COST"
   ]
  },
  {
   "cell_type": "code",
   "execution_count": null,
   "metadata": {},
   "outputs": [],
   "source": [
    "Inputs[\"Stored phs\"] = Inputs[\"Stored phs\"]/volume[0]*100\n",
    "Inputs[\"Stored battery\"] = Inputs[\"Stored battery\"]/volume[1]*100\n",
    "Inputs[\"Stored methanation\"] = Inputs[\"Stored methanation\"]/volume[2]*100"
   ]
  },
  {
   "cell_type": "code",
   "execution_count": null,
   "metadata": {},
   "outputs": [],
   "source": [
    "Inputs"
   ]
  },
  {
   "cell_type": "code",
   "execution_count": null,
   "metadata": {},
   "outputs": [],
   "source": [
    "#créer les Xtest, Ytest, Xtrain, Ytrain"
   ]
  },
  {
   "cell_type": "code",
   "execution_count": null,
   "metadata": {},
   "outputs": [],
   "source": [
    "Inputs[\"cost\"]= COST"
   ]
  },
  {
   "cell_type": "code",
   "execution_count": null,
   "metadata": {},
   "outputs": [],
   "source": [
    "# vu sur la cohérence des coûts\n",
    "np.sum(Inputs[\"cost\"]) #La somme des couts est la même que dans le rapport de sebastien et elisa scénario 1 = optimal"
   ]
  },
  {
   "cell_type": "code",
   "execution_count": null,
   "metadata": {},
   "outputs": [],
   "source": [
    "Inputs[\"cost\"]= COST * 10000"
   ]
  },
  {
   "cell_type": "code",
   "execution_count": null,
   "metadata": {},
   "outputs": [],
   "source": [
    "X = Inputs[:-1]\n",
    "X.drop([\"cost\"],inplace = True, axis =1)"
   ]
  },
  {
   "cell_type": "code",
   "execution_count": null,
   "metadata": {},
   "outputs": [],
   "source": [
    "from sklearn.preprocessing import StandardScaler\n",
    "\n",
    "scaler = StandardScaler()\n",
    "scaler.fit(X)\n",
    "XSc= scaler.transform(X)\n",
    "\n",
    "XSc = pd.DataFrame(XSc, index =X.index, columns = X.columns)"
   ]
  },
  {
   "cell_type": "code",
   "execution_count": null,
   "metadata": {},
   "outputs": [],
   "source": [
    "Y = Inputs[1:]\n",
    "Y = Y[[\"Stored phs\",\"Stored battery\",\"Stored methanation\",\"cost\"]]\n",
    "#Y[\"cost\"]=COST[1:]\n",
    "Y"
   ]
  },
  {
   "cell_type": "code",
   "execution_count": 134,
   "metadata": {},
   "outputs": [],
   "source": [
    "from sklearn.model_selection import train_test_split \n",
    "X_train,X_test,Y_train,Y_test=train_test_split(XSc,Y,test_size=0.25,random_state=11)"
   ]
  },
  {
   "cell_type": "markdown",
   "metadata": {
    "id": "kHeeuKcZ0kzQ"
   },
   "source": [
    "## Model de réseau de neurones\n",
    "\n",
    "Il s'agit d'un truc au hasard d'internet à affiner \n",
    "d'internet : \n",
    "\n",
    "'Pour la couche Dropout, on a diminué de 30% le nombre des données d’entrée afin d’éviter le phénomène du overfitting. La graine prend une valeur de 2 pour avoir des résultats plus reproductibles.' from https://www.cours-gratuit.com/tutoriel-python/tutoriel-python-matriser-les-rseaux-de-neurones-avec-keras"
   ]
  },
  {
   "cell_type": "code",
   "execution_count": 135,
   "metadata": {
    "id": "o8h-GPDM0iY_"
   },
   "outputs": [],
   "source": [
    "model = keras.Sequential([\n",
    "layers.Dense(64, activation = 'relu', input_shape = [X_train.shape[1]]),\n",
    "layers.Dropout(0.3, seed = 2),\n",
    "layers.Dense(64, activation = 'swish'),\n",
    "layers.Dense(64, activation = 'relu'),\n",
    "layers.Dense(64, activation = 'swish'),\n",
    "layers.Dense(64, activation = 'relu'),\n",
    "layers.Dense(64, activation = 'swish'),\n",
    "layers.Dense(4)])"
   ]
  },
  {
   "cell_type": "markdown",
   "metadata": {
    "id": "8g0RJw0715PR"
   },
   "source": [
    "### Liste des optimizer à choisir\n",
    "\n",
    "class Adadelta: Optimizer that implements the Adadelta algorithm.\n",
    "\n",
    "class Adagrad: Optimizer that implements the Adagrad algorithm.\n",
    "\n",
    "class Adam: Optimizer that implements the Adam algorithm.\n",
    "\n",
    "class Adamax: Optimizer that implements the Adamax algorithm.\n",
    "\n",
    "class Ftrl: Optimizer that implements the FTRL algorithm.\n",
    "\n",
    "class Nadam: Optimizer that implements the NAdam algorithm.\n",
    "\n",
    "class Optimizer: Base class for Keras optimizers.\n",
    "\n",
    "class RMSprop: Optimizer that implements the RMSprop algorithm.\n",
    "\n",
    "class SGD: Gradient descent (with momentum) optimizer."
   ]
  },
  {
   "cell_type": "markdown",
   "metadata": {
    "id": "9gNTE52D3sha"
   },
   "source": [
    "## Liste des losses à choisir\n",
    "\n",
    "class BinaryCrossentropy: Computes the cross-entropy loss between true labels and predicted labels.\n",
    "\n",
    "class BinaryFocalCrossentropy: Computes the focal cross-entropy loss between true labels and predictions.\n",
    "\n",
    "class CategoricalCrossentropy: Computes the crossentropy loss between the labels and predictions.\n",
    "\n",
    "class CategoricalHinge: Computes the categorical hinge loss between y_true and y_pred.\n",
    "\n",
    "class CosineSimilarity: Computes the cosine similarity between labels and predictions.\n",
    "\n",
    "class Hinge: Computes the hinge loss between y_true and y_pred.\n",
    "\n",
    "class Huber: Computes the Huber loss between y_true and y_pred.\n",
    "\n",
    "class KLDivergence: Computes Kullback-Leibler divergence loss between y_true and y_pred.\n",
    "\n",
    "class LogCosh: Computes the logarithm of the hyperbolic cosine of the prediction error.\n",
    "\n",
    "class Loss: Loss base class.\n",
    "\n",
    "class MeanAbsoluteError: Computes the mean of absolute difference between labels and predictions.\n",
    "\n",
    "class MeanAbsolutePercentageError: Computes the mean absolute percentage error between y_true and y_pred.\n",
    "\n",
    "class MeanSquaredError: Computes the mean of squares of errors between labels and predictions.\n",
    "\n",
    "class MeanSquaredLogarithmicError: Computes the mean squared logarithmic error between y_true and y_pred.\n",
    "\n",
    "class Poisson: Computes the Poisson loss between y_true and y_pred.\n",
    "\n",
    "class Reduction: Types of loss reduction.\n",
    "\n",
    "class SparseCategoricalCrossentropy: Computes the crossentropy loss between the labels and predictions.\n",
    "\n",
    "class SquaredHinge: Computes the squared hinge loss between y_true and y_pred.\n",
    "\n",
    "## Choisir une metrics"
   ]
  },
  {
   "cell_type": "code",
   "execution_count": 136,
   "metadata": {
    "id": "bEu1swwp1Qn_"
   },
   "outputs": [
    {
     "name": "stdout",
     "output_type": "stream",
     "text": [
      "Epoch 1/70\n",
      "7/7 [==============================] - 2s 43ms/step - loss: 2777.3225 - accuracy: 0.4954 - val_loss: 2395.7363 - val_accuracy: 0.5818\n",
      "Epoch 2/70\n",
      "7/7 [==============================] - 0s 8ms/step - loss: 2207.3845 - accuracy: 0.5321 - val_loss: 1214.2571 - val_accuracy: 0.5818\n",
      "Epoch 3/70\n",
      "7/7 [==============================] - 0s 7ms/step - loss: 1035.3085 - accuracy: 0.5321 - val_loss: 664.5140 - val_accuracy: 0.5818\n",
      "Epoch 4/70\n",
      "7/7 [==============================] - 0s 10ms/step - loss: 769.0532 - accuracy: 0.5321 - val_loss: 592.0479 - val_accuracy: 0.5818\n",
      "Epoch 5/70\n",
      "7/7 [==============================] - 0s 11ms/step - loss: 740.2855 - accuracy: 0.5321 - val_loss: 548.4908 - val_accuracy: 0.5818\n",
      "Epoch 6/70\n",
      "7/7 [==============================] - 0s 9ms/step - loss: 689.4142 - accuracy: 0.5321 - val_loss: 522.1774 - val_accuracy: 0.5818\n",
      "Epoch 7/70\n",
      "7/7 [==============================] - 0s 10ms/step - loss: 660.7994 - accuracy: 0.5321 - val_loss: 525.3721 - val_accuracy: 0.5818\n",
      "Epoch 8/70\n",
      "7/7 [==============================] - 0s 10ms/step - loss: 621.5620 - accuracy: 0.5321 - val_loss: 495.6352 - val_accuracy: 0.5818\n",
      "Epoch 9/70\n",
      "7/7 [==============================] - 0s 12ms/step - loss: 632.9877 - accuracy: 0.5321 - val_loss: 462.0070 - val_accuracy: 0.5818\n",
      "Epoch 10/70\n",
      "7/7 [==============================] - 0s 10ms/step - loss: 616.3030 - accuracy: 0.5321 - val_loss: 483.5750 - val_accuracy: 0.5818\n",
      "Epoch 11/70\n",
      "7/7 [==============================] - 0s 8ms/step - loss: 600.9512 - accuracy: 0.5321 - val_loss: 443.7388 - val_accuracy: 0.5818\n",
      "Epoch 12/70\n",
      "7/7 [==============================] - 0s 14ms/step - loss: 556.5684 - accuracy: 0.5321 - val_loss: 414.9696 - val_accuracy: 0.5818\n",
      "Epoch 13/70\n",
      "7/7 [==============================] - 0s 10ms/step - loss: 534.9050 - accuracy: 0.5321 - val_loss: 419.9123 - val_accuracy: 0.5818\n",
      "Epoch 14/70\n",
      "7/7 [==============================] - 0s 8ms/step - loss: 509.2082 - accuracy: 0.5780 - val_loss: 389.8934 - val_accuracy: 0.7818\n",
      "Epoch 15/70\n",
      "7/7 [==============================] - 0s 11ms/step - loss: 493.8320 - accuracy: 0.7385 - val_loss: 389.0016 - val_accuracy: 0.7818\n",
      "Epoch 16/70\n",
      "7/7 [==============================] - 0s 9ms/step - loss: 471.9577 - accuracy: 0.7569 - val_loss: 358.0300 - val_accuracy: 0.8364\n",
      "Epoch 17/70\n",
      "7/7 [==============================] - 0s 7ms/step - loss: 476.1400 - accuracy: 0.8119 - val_loss: 368.7681 - val_accuracy: 0.8364\n",
      "Epoch 18/70\n",
      "7/7 [==============================] - 0s 9ms/step - loss: 459.7248 - accuracy: 0.7936 - val_loss: 358.8123 - val_accuracy: 0.8182\n",
      "Epoch 19/70\n",
      "7/7 [==============================] - 0s 9ms/step - loss: 454.8805 - accuracy: 0.7936 - val_loss: 364.6636 - val_accuracy: 0.8182\n",
      "Epoch 20/70\n",
      "7/7 [==============================] - 0s 10ms/step - loss: 457.2104 - accuracy: 0.8028 - val_loss: 340.6783 - val_accuracy: 0.8182\n",
      "Epoch 21/70\n",
      "7/7 [==============================] - 0s 9ms/step - loss: 444.2502 - accuracy: 0.7936 - val_loss: 335.9097 - val_accuracy: 0.8364\n",
      "Epoch 22/70\n",
      "7/7 [==============================] - 0s 11ms/step - loss: 442.8542 - accuracy: 0.8028 - val_loss: 341.3897 - val_accuracy: 0.8364\n",
      "Epoch 23/70\n",
      "7/7 [==============================] - 0s 13ms/step - loss: 437.6536 - accuracy: 0.7982 - val_loss: 330.1343 - val_accuracy: 0.8364\n",
      "Epoch 24/70\n",
      "7/7 [==============================] - 0s 12ms/step - loss: 434.0816 - accuracy: 0.7982 - val_loss: 361.2263 - val_accuracy: 0.8182\n",
      "Epoch 25/70\n",
      "7/7 [==============================] - 0s 13ms/step - loss: 443.6559 - accuracy: 0.7844 - val_loss: 320.8019 - val_accuracy: 0.8182\n",
      "Epoch 26/70\n",
      "7/7 [==============================] - 0s 10ms/step - loss: 421.2328 - accuracy: 0.8119 - val_loss: 330.9190 - val_accuracy: 0.8364\n",
      "Epoch 27/70\n",
      "7/7 [==============================] - 0s 8ms/step - loss: 420.8826 - accuracy: 0.7752 - val_loss: 331.1393 - val_accuracy: 0.8364\n",
      "Epoch 28/70\n",
      "7/7 [==============================] - 0s 8ms/step - loss: 408.8570 - accuracy: 0.8028 - val_loss: 324.1261 - val_accuracy: 0.8000\n",
      "Epoch 29/70\n",
      "7/7 [==============================] - 0s 9ms/step - loss: 416.0854 - accuracy: 0.8028 - val_loss: 311.1719 - val_accuracy: 0.8545\n",
      "Epoch 30/70\n",
      "7/7 [==============================] - 0s 10ms/step - loss: 413.7581 - accuracy: 0.7936 - val_loss: 312.9532 - val_accuracy: 0.8545\n",
      "Epoch 31/70\n",
      "7/7 [==============================] - 0s 10ms/step - loss: 407.4042 - accuracy: 0.7798 - val_loss: 310.7679 - val_accuracy: 0.8364\n",
      "Epoch 32/70\n",
      "7/7 [==============================] - 0s 10ms/step - loss: 402.8605 - accuracy: 0.7844 - val_loss: 309.8829 - val_accuracy: 0.8182\n",
      "Epoch 33/70\n",
      "7/7 [==============================] - 0s 9ms/step - loss: 400.9066 - accuracy: 0.7936 - val_loss: 296.4840 - val_accuracy: 0.8182\n",
      "Epoch 34/70\n",
      "7/7 [==============================] - 0s 12ms/step - loss: 400.8864 - accuracy: 0.7936 - val_loss: 304.4479 - val_accuracy: 0.8364\n",
      "Epoch 35/70\n",
      "7/7 [==============================] - 0s 9ms/step - loss: 374.7618 - accuracy: 0.7661 - val_loss: 299.2049 - val_accuracy: 0.8182\n",
      "Epoch 36/70\n",
      "7/7 [==============================] - 0s 9ms/step - loss: 385.0874 - accuracy: 0.7982 - val_loss: 289.2683 - val_accuracy: 0.8364\n",
      "Epoch 37/70\n",
      "7/7 [==============================] - 0s 9ms/step - loss: 366.3494 - accuracy: 0.7890 - val_loss: 288.1469 - val_accuracy: 0.8364\n",
      "Epoch 38/70\n",
      "7/7 [==============================] - 0s 10ms/step - loss: 347.7354 - accuracy: 0.7798 - val_loss: 269.2866 - val_accuracy: 0.8364\n",
      "Epoch 39/70\n",
      "7/7 [==============================] - 0s 8ms/step - loss: 356.1493 - accuracy: 0.7752 - val_loss: 290.5518 - val_accuracy: 0.8364\n",
      "Epoch 40/70\n",
      "7/7 [==============================] - 0s 13ms/step - loss: 341.6284 - accuracy: 0.7661 - val_loss: 264.8370 - val_accuracy: 0.8364\n",
      "Epoch 41/70\n",
      "7/7 [==============================] - 0s 12ms/step - loss: 331.1226 - accuracy: 0.7890 - val_loss: 250.8898 - val_accuracy: 0.8364\n",
      "Epoch 42/70\n",
      "7/7 [==============================] - 0s 11ms/step - loss: 317.6721 - accuracy: 0.7523 - val_loss: 245.9888 - val_accuracy: 0.8000\n",
      "Epoch 43/70\n",
      "7/7 [==============================] - 0s 9ms/step - loss: 311.4780 - accuracy: 0.7890 - val_loss: 248.5544 - val_accuracy: 0.8364\n",
      "Epoch 44/70\n",
      "7/7 [==============================] - 0s 11ms/step - loss: 288.8501 - accuracy: 0.7844 - val_loss: 223.8928 - val_accuracy: 0.8000\n",
      "Epoch 45/70\n",
      "7/7 [==============================] - 0s 10ms/step - loss: 283.4930 - accuracy: 0.8028 - val_loss: 232.1365 - val_accuracy: 0.8182\n",
      "Epoch 46/70\n",
      "7/7 [==============================] - 0s 11ms/step - loss: 278.2613 - accuracy: 0.7982 - val_loss: 224.0910 - val_accuracy: 0.8182\n",
      "Epoch 47/70\n",
      "7/7 [==============================] - 0s 10ms/step - loss: 272.1464 - accuracy: 0.8073 - val_loss: 247.4853 - val_accuracy: 0.8182\n",
      "Epoch 48/70\n",
      "7/7 [==============================] - 0s 9ms/step - loss: 261.0196 - accuracy: 0.7936 - val_loss: 232.5862 - val_accuracy: 0.8364\n",
      "Epoch 49/70\n",
      "7/7 [==============================] - 0s 9ms/step - loss: 260.6266 - accuracy: 0.8211 - val_loss: 224.1660 - val_accuracy: 0.8000\n",
      "Epoch 50/70\n",
      "7/7 [==============================] - 0s 9ms/step - loss: 253.1188 - accuracy: 0.7936 - val_loss: 213.6048 - val_accuracy: 0.8182\n",
      "Epoch 51/70\n",
      "7/7 [==============================] - 0s 10ms/step - loss: 257.7057 - accuracy: 0.7982 - val_loss: 220.4925 - val_accuracy: 0.8364\n",
      "Epoch 52/70\n",
      "7/7 [==============================] - 0s 11ms/step - loss: 252.1512 - accuracy: 0.7936 - val_loss: 208.0540 - val_accuracy: 0.8182\n",
      "Epoch 53/70\n",
      "7/7 [==============================] - 0s 11ms/step - loss: 252.3078 - accuracy: 0.7844 - val_loss: 210.2949 - val_accuracy: 0.8182\n",
      "Epoch 54/70\n",
      "7/7 [==============================] - 0s 12ms/step - loss: 256.4596 - accuracy: 0.8119 - val_loss: 203.5729 - val_accuracy: 0.8182\n",
      "Epoch 55/70\n",
      "7/7 [==============================] - 0s 13ms/step - loss: 266.0486 - accuracy: 0.8211 - val_loss: 206.1462 - val_accuracy: 0.8182\n",
      "Epoch 56/70\n",
      "7/7 [==============================] - 0s 12ms/step - loss: 250.3133 - accuracy: 0.8028 - val_loss: 210.3424 - val_accuracy: 0.8364\n",
      "Epoch 57/70\n",
      "7/7 [==============================] - 0s 11ms/step - loss: 250.9326 - accuracy: 0.7936 - val_loss: 209.0049 - val_accuracy: 0.8364\n",
      "Epoch 58/70\n"
     ]
    },
    {
     "name": "stdout",
     "output_type": "stream",
     "text": [
      "7/7 [==============================] - 0s 10ms/step - loss: 240.6946 - accuracy: 0.7844 - val_loss: 208.4170 - val_accuracy: 0.8364\n",
      "Epoch 59/70\n",
      "7/7 [==============================] - 0s 12ms/step - loss: 247.5766 - accuracy: 0.7752 - val_loss: 217.5688 - val_accuracy: 0.8182\n",
      "Epoch 60/70\n",
      "7/7 [==============================] - 0s 11ms/step - loss: 270.6331 - accuracy: 0.8073 - val_loss: 210.0772 - val_accuracy: 0.8364\n",
      "Epoch 61/70\n",
      "7/7 [==============================] - 0s 11ms/step - loss: 218.9654 - accuracy: 0.8028 - val_loss: 218.6039 - val_accuracy: 0.8182\n",
      "Epoch 62/70\n",
      "7/7 [==============================] - 0s 7ms/step - loss: 254.7353 - accuracy: 0.7982 - val_loss: 229.8176 - val_accuracy: 0.8182\n",
      "Epoch 63/70\n",
      "7/7 [==============================] - 0s 11ms/step - loss: 228.6841 - accuracy: 0.8028 - val_loss: 212.5087 - val_accuracy: 0.8364\n",
      "Epoch 64/70\n",
      "7/7 [==============================] - 0s 10ms/step - loss: 231.5490 - accuracy: 0.7890 - val_loss: 219.3495 - val_accuracy: 0.8364\n",
      "Epoch 65/70\n",
      "7/7 [==============================] - 0s 12ms/step - loss: 219.9503 - accuracy: 0.7798 - val_loss: 210.6550 - val_accuracy: 0.8000\n",
      "Epoch 66/70\n",
      "7/7 [==============================] - 0s 12ms/step - loss: 241.6849 - accuracy: 0.7982 - val_loss: 220.0490 - val_accuracy: 0.8182\n",
      "Epoch 67/70\n",
      "7/7 [==============================] - 0s 12ms/step - loss: 227.2825 - accuracy: 0.7752 - val_loss: 216.6962 - val_accuracy: 0.8000\n",
      "Epoch 68/70\n",
      "7/7 [==============================] - 0s 12ms/step - loss: 231.2994 - accuracy: 0.8028 - val_loss: 229.7996 - val_accuracy: 0.8000\n",
      "Epoch 69/70\n",
      "7/7 [==============================] - 0s 13ms/step - loss: 220.1005 - accuracy: 0.7982 - val_loss: 226.8390 - val_accuracy: 0.8000\n",
      "Epoch 70/70\n",
      "7/7 [==============================] - 0s 12ms/step - loss: 230.8083 - accuracy: 0.7844 - val_loss: 210.9294 - val_accuracy: 0.8182\n"
     ]
    }
   ],
   "source": [
    "optimiseur = tf.keras.optimizers.RMSprop(learning_rate = 0.001)\n",
    "model.compile(loss = tf.keras.losses.MeanSquaredError(),\n",
    "optimizer = optimiseur,\n",
    "metrics = ['accuracy'])\n",
    "\n",
    "training = model.fit (X_train, Y_train, epochs = 70, validation_split = 0.2)"
   ]
  },
  {
   "cell_type": "code",
   "execution_count": 137,
   "metadata": {
    "id": "dX-goASl3rah"
   },
   "outputs": [
    {
     "name": "stdout",
     "output_type": "stream",
     "text": [
      "3/3 [==============================] - 0s 5ms/step - loss: 196.5165 - accuracy: 0.8791\n"
     ]
    }
   ],
   "source": [
    "score =model.evaluate(X_test,Y_test)"
   ]
  },
  {
   "cell_type": "code",
   "execution_count": 146,
   "metadata": {},
   "outputs": [
    {
     "name": "stdout",
     "output_type": "stream",
     "text": [
      "3/3 [==============================] - 0s 4ms/step\n"
     ]
    },
    {
     "data": {
      "text/html": [
       "<div>\n",
       "<style scoped>\n",
       "    .dataframe tbody tr th:only-of-type {\n",
       "        vertical-align: middle;\n",
       "    }\n",
       "\n",
       "    .dataframe tbody tr th {\n",
       "        vertical-align: top;\n",
       "    }\n",
       "\n",
       "    .dataframe thead th {\n",
       "        text-align: right;\n",
       "    }\n",
       "</style>\n",
       "<table border=\"1\" class=\"dataframe\">\n",
       "  <thead>\n",
       "    <tr style=\"text-align: right;\">\n",
       "      <th></th>\n",
       "      <th>0</th>\n",
       "      <th>1</th>\n",
       "      <th>2</th>\n",
       "      <th>3</th>\n",
       "    </tr>\n",
       "  </thead>\n",
       "  <tbody>\n",
       "    <tr>\n",
       "      <th>0</th>\n",
       "      <td>19.994944</td>\n",
       "      <td>8.464035</td>\n",
       "      <td>75.997765</td>\n",
       "      <td>72.722420</td>\n",
       "    </tr>\n",
       "    <tr>\n",
       "      <th>1</th>\n",
       "      <td>12.643332</td>\n",
       "      <td>6.057559</td>\n",
       "      <td>70.499290</td>\n",
       "      <td>71.414810</td>\n",
       "    </tr>\n",
       "    <tr>\n",
       "      <th>2</th>\n",
       "      <td>34.165474</td>\n",
       "      <td>12.230449</td>\n",
       "      <td>60.669357</td>\n",
       "      <td>69.667809</td>\n",
       "    </tr>\n",
       "    <tr>\n",
       "      <th>3</th>\n",
       "      <td>11.397560</td>\n",
       "      <td>6.680677</td>\n",
       "      <td>79.242203</td>\n",
       "      <td>70.270920</td>\n",
       "    </tr>\n",
       "    <tr>\n",
       "      <th>4</th>\n",
       "      <td>0.073449</td>\n",
       "      <td>0.976953</td>\n",
       "      <td>36.013611</td>\n",
       "      <td>65.185677</td>\n",
       "    </tr>\n",
       "    <tr>\n",
       "      <th>...</th>\n",
       "      <td>...</td>\n",
       "      <td>...</td>\n",
       "      <td>...</td>\n",
       "      <td>...</td>\n",
       "    </tr>\n",
       "    <tr>\n",
       "      <th>86</th>\n",
       "      <td>14.094468</td>\n",
       "      <td>12.492035</td>\n",
       "      <td>79.917465</td>\n",
       "      <td>66.589195</td>\n",
       "    </tr>\n",
       "    <tr>\n",
       "      <th>87</th>\n",
       "      <td>27.710577</td>\n",
       "      <td>10.485025</td>\n",
       "      <td>67.309471</td>\n",
       "      <td>71.267685</td>\n",
       "    </tr>\n",
       "    <tr>\n",
       "      <th>88</th>\n",
       "      <td>35.994289</td>\n",
       "      <td>20.724720</td>\n",
       "      <td>67.480484</td>\n",
       "      <td>73.290337</td>\n",
       "    </tr>\n",
       "    <tr>\n",
       "      <th>89</th>\n",
       "      <td>11.286255</td>\n",
       "      <td>7.199666</td>\n",
       "      <td>63.672096</td>\n",
       "      <td>67.956009</td>\n",
       "    </tr>\n",
       "    <tr>\n",
       "      <th>90</th>\n",
       "      <td>49.034412</td>\n",
       "      <td>33.731106</td>\n",
       "      <td>9.712654</td>\n",
       "      <td>69.251251</td>\n",
       "    </tr>\n",
       "  </tbody>\n",
       "</table>\n",
       "<p>91 rows × 4 columns</p>\n",
       "</div>"
      ],
      "text/plain": [
       "            0          1          2          3\n",
       "0   19.994944   8.464035  75.997765  72.722420\n",
       "1   12.643332   6.057559  70.499290  71.414810\n",
       "2   34.165474  12.230449  60.669357  69.667809\n",
       "3   11.397560   6.680677  79.242203  70.270920\n",
       "4    0.073449   0.976953  36.013611  65.185677\n",
       "..        ...        ...        ...        ...\n",
       "86  14.094468  12.492035  79.917465  66.589195\n",
       "87  27.710577  10.485025  67.309471  71.267685\n",
       "88  35.994289  20.724720  67.480484  73.290337\n",
       "89  11.286255   7.199666  63.672096  67.956009\n",
       "90  49.034412  33.731106   9.712654  69.251251\n",
       "\n",
       "[91 rows x 4 columns]"
      ]
     },
     "execution_count": 146,
     "metadata": {},
     "output_type": "execute_result"
    }
   ],
   "source": [
    "res = pd.DataFrame(model.predict(X_test))\n",
    "res"
   ]
  },
  {
   "cell_type": "code",
   "execution_count": 148,
   "metadata": {},
   "outputs": [
    {
     "data": {
      "text/plain": [
       "6467.169"
      ]
     },
     "execution_count": 148,
     "metadata": {},
     "output_type": "execute_result"
    }
   ],
   "source": [
    "np.sum(res[3])"
   ]
  },
  {
   "cell_type": "code",
   "execution_count": 139,
   "metadata": {},
   "outputs": [
    {
     "data": {
      "text/html": [
       "<div>\n",
       "<style scoped>\n",
       "    .dataframe tbody tr th:only-of-type {\n",
       "        vertical-align: middle;\n",
       "    }\n",
       "\n",
       "    .dataframe tbody tr th {\n",
       "        vertical-align: top;\n",
       "    }\n",
       "\n",
       "    .dataframe thead th {\n",
       "        text-align: right;\n",
       "    }\n",
       "</style>\n",
       "<table border=\"1\" class=\"dataframe\">\n",
       "  <thead>\n",
       "    <tr style=\"text-align: right;\">\n",
       "      <th></th>\n",
       "      <th>Stored phs</th>\n",
       "      <th>Stored battery</th>\n",
       "      <th>Stored methanation</th>\n",
       "      <th>cost</th>\n",
       "    </tr>\n",
       "  </thead>\n",
       "  <tbody>\n",
       "    <tr>\n",
       "      <th>261</th>\n",
       "      <td>17.222222</td>\n",
       "      <td>0.000000</td>\n",
       "      <td>72.771778</td>\n",
       "      <td>68.52267</td>\n",
       "    </tr>\n",
       "    <tr>\n",
       "      <th>229</th>\n",
       "      <td>3.983333</td>\n",
       "      <td>0.000000</td>\n",
       "      <td>67.231294</td>\n",
       "      <td>68.20095</td>\n",
       "    </tr>\n",
       "    <tr>\n",
       "      <th>155</th>\n",
       "      <td>37.438889</td>\n",
       "      <td>24.035608</td>\n",
       "      <td>56.135767</td>\n",
       "      <td>67.39917</td>\n",
       "    </tr>\n",
       "    <tr>\n",
       "      <th>318</th>\n",
       "      <td>13.194444</td>\n",
       "      <td>0.000000</td>\n",
       "      <td>79.056875</td>\n",
       "      <td>67.04364</td>\n",
       "    </tr>\n",
       "    <tr>\n",
       "      <th>140</th>\n",
       "      <td>0.000000</td>\n",
       "      <td>0.000000</td>\n",
       "      <td>44.062168</td>\n",
       "      <td>67.04364</td>\n",
       "    </tr>\n",
       "    <tr>\n",
       "      <th>...</th>\n",
       "      <td>...</td>\n",
       "      <td>...</td>\n",
       "      <td>...</td>\n",
       "      <td>...</td>\n",
       "    </tr>\n",
       "    <tr>\n",
       "      <th>364</th>\n",
       "      <td>0.000000</td>\n",
       "      <td>0.000000</td>\n",
       "      <td>64.281880</td>\n",
       "      <td>67.04364</td>\n",
       "    </tr>\n",
       "    <tr>\n",
       "      <th>165</th>\n",
       "      <td>27.477778</td>\n",
       "      <td>4.504991</td>\n",
       "      <td>63.785924</td>\n",
       "      <td>68.58945</td>\n",
       "    </tr>\n",
       "    <tr>\n",
       "      <th>219</th>\n",
       "      <td>0.000000</td>\n",
       "      <td>0.000000</td>\n",
       "      <td>58.601626</td>\n",
       "      <td>68.16063</td>\n",
       "    </tr>\n",
       "    <tr>\n",
       "      <th>196</th>\n",
       "      <td>0.000000</td>\n",
       "      <td>0.000000</td>\n",
       "      <td>62.050917</td>\n",
       "      <td>67.04364</td>\n",
       "    </tr>\n",
       "    <tr>\n",
       "      <th>78</th>\n",
       "      <td>45.244444</td>\n",
       "      <td>0.000000</td>\n",
       "      <td>11.323224</td>\n",
       "      <td>67.04364</td>\n",
       "    </tr>\n",
       "  </tbody>\n",
       "</table>\n",
       "<p>91 rows × 4 columns</p>\n",
       "</div>"
      ],
      "text/plain": [
       "     Stored phs  Stored battery  Stored methanation      cost\n",
       "261   17.222222        0.000000           72.771778  68.52267\n",
       "229    3.983333        0.000000           67.231294  68.20095\n",
       "155   37.438889       24.035608           56.135767  67.39917\n",
       "318   13.194444        0.000000           79.056875  67.04364\n",
       "140    0.000000        0.000000           44.062168  67.04364\n",
       "..          ...             ...                 ...       ...\n",
       "364    0.000000        0.000000           64.281880  67.04364\n",
       "165   27.477778        4.504991           63.785924  68.58945\n",
       "219    0.000000        0.000000           58.601626  68.16063\n",
       "196    0.000000        0.000000           62.050917  67.04364\n",
       "78    45.244444        0.000000           11.323224  67.04364\n",
       "\n",
       "[91 rows x 4 columns]"
      ]
     },
     "execution_count": 139,
     "metadata": {},
     "output_type": "execute_result"
    }
   ],
   "source": [
    "Y_test"
   ]
  },
  {
   "cell_type": "code",
   "execution_count": 140,
   "metadata": {},
   "outputs": [
    {
     "data": {
      "text/plain": [
       "6234.226515729628"
      ]
     },
     "execution_count": 140,
     "metadata": {},
     "output_type": "execute_result"
    }
   ],
   "source": [
    "np.sum(Y_test['cost'])"
   ]
  },
  {
   "cell_type": "code",
   "execution_count": null,
   "metadata": {},
   "outputs": [],
   "source": []
  }
 ],
 "metadata": {
  "colab": {
   "provenance": []
  },
  "kernelspec": {
   "display_name": "Python 3 (ipykernel)",
   "language": "python",
   "name": "python3"
  },
  "language_info": {
   "codemirror_mode": {
    "name": "ipython",
    "version": 3
   },
   "file_extension": ".py",
   "mimetype": "text/x-python",
   "name": "python",
   "nbconvert_exporter": "python",
   "pygments_lexer": "ipython3",
   "version": "3.9.7"
  }
 },
 "nbformat": 4,
 "nbformat_minor": 1
}
