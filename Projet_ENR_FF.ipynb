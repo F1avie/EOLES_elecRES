{
  "nbformat": 4,
  "nbformat_minor": 0,
  "metadata": {
    "colab": {
      "provenance": [],
      "authorship_tag": "ABX9TyMBZ0VZLsWdbtHY5xKvW6lA",
      "include_colab_link": true
    },
    "kernelspec": {
      "name": "python3",
      "display_name": "Python 3"
    },
    "language_info": {
      "name": "python"
    }
  },
  "cells": [
    {
      "cell_type": "markdown",
      "metadata": {
        "id": "view-in-github",
        "colab_type": "text"
      },
      "source": [
        "<a href=\"https://colab.research.google.com/github/F1avie/EOLES_elecRES/blob/master/Projet_ENR_FF.ipynb\" target=\"_parent\"><img src=\"https://colab.research.google.com/assets/colab-badge.svg\" alt=\"Open In Colab\"/></a>"
      ]
    },
    {
      "cell_type": "markdown",
      "source": [
        "# Projet 5A ENR\n",
        "\n",
        "## Apprendre la stratégie journalière de stockage\n",
        "### Mise en place d'un réseau de neurone"
      ],
      "metadata": {
        "id": "-6N85Q6oviCV"
      }
    },
    {
      "cell_type": "markdown",
      "source": [
        "### Objectifs : \n",
        "- Estimer le coût d’un mix énergétique de manière rapide en limitant le temps de calcul de l'optimisation du stockage qui se fait aujourd’hui heure par heure. "
      ],
      "metadata": {
        "id": "VB23RE10sOIz"
      }
    },
    {
      "cell_type": "markdown",
      "source": [
        "L’entrée du réseau peut être par exemple :\n",
        "1) L’état des stocks des différents moyens de stockage (en valeur absolue ou en pourcentage) à 0h\n",
        "2) La production nette de la journée (production totale de la journée - consommation totale)\n",
        "3) le jour de l’année (entre 1 et 365)\n",
        "Et les sorties seraient : l’état des stocks en fin journée des différents moyens de stockages et le cout de stockage de la journée.\n",
        "Ceci n’st qu’une proposition. On peut aussi mettre en entrée, la variance de la production journalière qui peut avoir un rôle."
      ],
      "metadata": {
        "id": "zCXPHlmytGVH"
      }
    },
    {
      "cell_type": "code",
      "source": [
        "import matplotlib.pyplot as plt\n",
        "from matplotlib import ticker\n",
        "import numpy as np\n",
        "import pandas as pd\n",
        "import seaborn as sns\n",
        "import tensorflow as tf\n",
        "from tensorflow import keras\n",
        "from tensorflow.keras import layers"
      ],
      "metadata": {
        "id": "RBQ4OGW1spZS"
      },
      "execution_count": 1,
      "outputs": []
    },
    {
      "cell_type": "markdown",
      "source": [
        "## Prétraitement des données\n",
        "\n",
        "- il faut genérer les données avec les modèles \n",
        "\n",
        "- Quel mix choisir ? Le choisir et l'importer ici =) \n",
        "\n",
        "- Le cout de stockage n'est t'il pas aussi dépendant du profil de consommation ? (estimation ADEME, Negawhatt, RTE ?) réponse : le profil de consommation intervient dans la production de la journée nette (qui n'est pas un partie logique)\n",
        "\n",
        "- Comment on fait pour connaître la production de la journée idem pour la consommation ? Ducoup c'est online ? Quelle idée derrière la variance de la production journalière (+ de variance plus de stockage ?) ? \n",
        "- C'est pas un peu con de connaître exactement la production de la journée ? parceque ducoup le stock prédis ca va être sensiblement stock d'entree + prod de la journée : un peu étrange selon Flavie\n",
        "\n",
        "\n",
        "- produire les données d'apprentissage contenant\n",
        "\n",
        "    - 1 jour de l'année entre 1 et 365\n",
        "    - état des stocks à h0\n",
        "    - production de la journée\n",
        "    - variance production journalière.\n",
        "    - variance consomation journalière utile ? (peut être bien que oui aussi)\n",
        "\n",
        "\n",
        "\n"
      ],
      "metadata": {
        "id": "Xx_GNyULvaxz"
      }
    },
    {
      "cell_type": "code",
      "source": [],
      "metadata": {
        "id": "IcT26aKPsgpz"
      },
      "execution_count": null,
      "outputs": []
    },
    {
      "cell_type": "markdown",
      "source": [
        "## Model de réseau de neurones\n",
        "\n",
        "Il s'agit d'un truc au hasard d'internet à affiner \n",
        "d'internet : \n",
        "\n",
        "'Pour la couche Dropout, on a diminué de 30% le nombre des données d’entrée afin d’éviter le phénomène du overfitting. La graine prend une valeur de 2 pour avoir des résultats plus reproductibles.' from https://www.cours-gratuit.com/tutoriel-python/tutoriel-python-matriser-les-rseaux-de-neurones-avec-keras"
      ],
      "metadata": {
        "id": "kHeeuKcZ0kzQ"
      }
    },
    {
      "cell_type": "code",
      "source": [
        "model = keras.Sequential([\n",
        "layers.Dense(64, activation = 'relu', input_shape = [train.shape[1]]),\n",
        "layers.Dropout(0.3, seed = 2),\n",
        "layers.Dense(64, activation = 'swish'),\n",
        "layers.Dense(64, activation = 'relu'),\n",
        "layers.Dense(64, activation = 'swish'),\n",
        "layers.Dense(64, activation = 'relu'),\n",
        "layers.Dense(64, activation = 'swish'),\n",
        "layers.Dense(1)])"
      ],
      "metadata": {
        "id": "o8h-GPDM0iY_"
      },
      "execution_count": null,
      "outputs": []
    }
  ]
}